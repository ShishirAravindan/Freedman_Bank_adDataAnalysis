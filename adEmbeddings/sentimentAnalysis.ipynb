{
 "cells": [
  {
   "cell_type": "code",
   "execution_count": 1,
   "metadata": {},
   "outputs": [],
   "source": [
    "import sys\n",
    "sys.path.append('..')"
   ]
  },
  {
   "cell_type": "code",
   "execution_count": 2,
   "metadata": {},
   "outputs": [],
   "source": [
    "from transformers import AutoTokenizer\n",
    "from transformers import TFAutoModelForSequenceClassification\n",
    "import tensorflow as tf\n",
    "from textblob import TextBlob\n",
    "from Scripts.adsApi import *\n",
    "import pandas as pd"
   ]
  },
  {
   "cell_type": "code",
   "execution_count": 3,
   "metadata": {},
   "outputs": [
    {
     "name": "stderr",
     "output_type": "stream",
     "text": [
      "All model checkpoint layers were used when initializing TFRobertaForSequenceClassification.\n",
      "\n",
      "All the layers of TFRobertaForSequenceClassification were initialized from the model checkpoint at cardiffnlp/twitter-roberta-base-sentiment.\n",
      "If your task is similar to the task the model of the checkpoint was trained on, you can already use TFRobertaForSequenceClassification for predictions without further training.\n"
     ]
    }
   ],
   "source": [
    "MODEL = \"cardiffnlp/twitter-roberta-base-sentiment\"\n",
    "\n",
    "# tokenizing based on the model\n",
    "tokenizer = AutoTokenizer.from_pretrained(MODEL)\n",
    "model = TFAutoModelForSequenceClassification.from_pretrained(MODEL)\n",
    "\n",
    "\n",
    "class SentimentAnalysis:\n",
    "    def __init__(self, text):\n",
    "        self.text = text\n",
    "\n",
    "    \"\"\"\n",
    "    This function will use the vader model to analyze the sentiment of the text\n",
    "    This is more of a basic or naive approach to sentiment analysis as it \n",
    "    checks for the polarity of each word in the text and then gives the\n",
    "    sentiment of the text based on average of the polarity of each word.\n",
    "    \"\"\"\n",
    "    def vaderModel(self):\n",
    "        textblob = TextBlob(self.text)\n",
    "        return textblob.sentiment.polarity\n",
    "\n",
    "    \"\"\"\n",
    "    This function will use the roBERTa model to analyze the sentiment of the text.\n",
    "    This is a more advanced approach to sentiment analysis as it uses a deep learning\n",
    "    model to analyze the sentiment of the text.\n",
    "    As shown in the code above, the roBERTa model is using a pre-trained model\n",
    "    of 500 million twitter posts to analyze the sentiment of the text.\n",
    "    \"\"\"\n",
    "    def roBERTaModel(self):\n",
    "        encoded_text = tokenizer(self.text, return_tensors='tf')\n",
    "        output = model(**encoded_text)\n",
    "        scores = output[0][0].numpy()\n",
    "        scores = tf.nn.softmax(scores)\n",
    "        scores_dict = {\n",
    "            'roberta_neg' : scores[0].numpy(),\n",
    "            'roberta_neu' : scores[1].numpy(),\n",
    "            'roberta_pos' : scores[2].numpy()\n",
    "        }\n",
    "        return scores_dict\n",
    "\n",
    "    def roBERTaModelResult(self):\n",
    "        result = self.roBERTaModel()\n",
    "        return result['roberta_neg'] * -1 + result['roberta_neu'] * 0 + result['roberta_pos'] * 1\n",
    "\n",
    "    \"\"\"\n",
    "    This function will return the sentiment of the text.\n",
    "    If the roBERTa model is able to analyze the sentiment of the text, then\n",
    "    the sentiment of the text will be returned. Otherwise, the vader model\n",
    "    will be used to analyze the sentiment of the text.\n",
    "    \n",
    "    :return: sentiment of the text\n",
    "    \"\"\"\n",
    "    def getValues(self):\n",
    "        value = 0\n",
    "        try:\n",
    "            value = self.roBERTaModelResult()\n",
    "        except:\n",
    "            value =0\n",
    "        return value\n",
    "\n",
    "# sea = SentimentAnalysis(\"you are very very very very bad\")\n",
    "# print(sea.roBERTaModelResult())\n",
    "# print(sea.vaderModel())\n",
    "def getSentimentVals(filename:str)->dict:\n",
    "    identifier_text_map=getAllAdTexts(filename)\n",
    "    identifier_sentimentval_map={}\n",
    "    for identifier in identifier_text_map:\n",
    "        text=identifier_text_map[identifier]\n",
    "        sav=SentimentAnalysis(text)\n",
    "        identifier_sentimentval_map[identifier]=sav.getValues()\n",
    "        #print(f\"Identifier: {identifier}, Vals:{identifier_sentimentval_map[identifier]} done\")\n",
    "    return identifier_sentimentval_map\n",
    "\n",
    "def converttoExcel(dictionary:dict,filename:str):\n",
    "    column_names=['Identifier','roBERTa']\n",
    "    df=pd.DataFrame(columns=column_names)\n",
    "    for identifier in dictionary:\n",
    "        new_row={'Identifier':identifier,'roBERTa':dictionary[identifier]}\n",
    "        df.loc[len(df)]=new_row\n",
    "    df.to_excel(f\"{filename}.xlsx\",index=False)\n",
    "    "
   ]
  },
  {
   "cell_type": "code",
   "execution_count": 4,
   "metadata": {},
   "outputs": [
    {
     "name": "stdout",
     "output_type": "stream",
     "text": [
      "Done\n"
     ]
    }
   ],
   "source": [
    "identifier_sentimentval_map=getSentimentVals(\"dataset_nov23\")\n",
    "converttoExcel(identifier_sentimentval_map,\"SentimentVal_dataset_nov23\")\n",
    "print(\"Done\")"
   ]
  }
 ],
 "metadata": {
  "kernelspec": {
   "display_name": "fsbvenv",
   "language": "python",
   "name": "python3"
  },
  "language_info": {
   "codemirror_mode": {
    "name": "ipython",
    "version": 3
   },
   "file_extension": ".py",
   "mimetype": "text/x-python",
   "name": "python",
   "nbconvert_exporter": "python",
   "pygments_lexer": "ipython3",
   "version": "3.10.4"
  },
  "orig_nbformat": 4
 },
 "nbformat": 4,
 "nbformat_minor": 2
}
