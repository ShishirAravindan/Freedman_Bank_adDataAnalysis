{
 "cells": [
  {
   "attachments": {},
   "cell_type": "markdown",
   "metadata": {},
   "source": [
    "# Generating Embeddings for Dataset of Advertisments\n",
    "Given an excel file of dictionary names and their phrases, this notebook converts these dictionaries into embeddings and caches them for downstream inference Tasks"
   ]
  },
  {
   "attachments": {},
   "cell_type": "markdown",
   "metadata": {},
   "source": [
    "## 0: Installing dependencies and Imports\n",
    "Ensures that necessary dependencies are installed, required imports are made and sets up environment variables."
   ]
  },
  {
   "cell_type": "code",
   "execution_count": 1,
   "metadata": {},
   "outputs": [
    {
     "name": "stdout",
     "output_type": "stream",
     "text": [
      "Requirement already satisfied: transformers in /Users/akhil/Desktop/Research Assistant - Fall 2023 /Freedman_Bank_adDataAnalysis/fsbvenv/lib/python3.10/site-packages (4.34.1)\n",
      "Requirement already satisfied: filelock in /Users/akhil/Desktop/Research Assistant - Fall 2023 /Freedman_Bank_adDataAnalysis/fsbvenv/lib/python3.10/site-packages (from transformers) (3.12.4)\n",
      "Requirement already satisfied: huggingface-hub<1.0,>=0.16.4 in /Users/akhil/Desktop/Research Assistant - Fall 2023 /Freedman_Bank_adDataAnalysis/fsbvenv/lib/python3.10/site-packages (from transformers) (0.17.3)\n",
      "Requirement already satisfied: numpy>=1.17 in /Users/akhil/Desktop/Research Assistant - Fall 2023 /Freedman_Bank_adDataAnalysis/fsbvenv/lib/python3.10/site-packages (from transformers) (1.26.0)\n",
      "Requirement already satisfied: packaging>=20.0 in /Users/akhil/Desktop/Research Assistant - Fall 2023 /Freedman_Bank_adDataAnalysis/fsbvenv/lib/python3.10/site-packages (from transformers) (23.2)\n",
      "Requirement already satisfied: pyyaml>=5.1 in /Users/akhil/Desktop/Research Assistant - Fall 2023 /Freedman_Bank_adDataAnalysis/fsbvenv/lib/python3.10/site-packages (from transformers) (6.0.1)\n",
      "Requirement already satisfied: regex!=2019.12.17 in /Users/akhil/Desktop/Research Assistant - Fall 2023 /Freedman_Bank_adDataAnalysis/fsbvenv/lib/python3.10/site-packages (from transformers) (2023.10.3)\n",
      "Requirement already satisfied: requests in /Users/akhil/Desktop/Research Assistant - Fall 2023 /Freedman_Bank_adDataAnalysis/fsbvenv/lib/python3.10/site-packages (from transformers) (2.31.0)\n",
      "Requirement already satisfied: tokenizers<0.15,>=0.14 in /Users/akhil/Desktop/Research Assistant - Fall 2023 /Freedman_Bank_adDataAnalysis/fsbvenv/lib/python3.10/site-packages (from transformers) (0.14.1)\n",
      "Requirement already satisfied: safetensors>=0.3.1 in /Users/akhil/Desktop/Research Assistant - Fall 2023 /Freedman_Bank_adDataAnalysis/fsbvenv/lib/python3.10/site-packages (from transformers) (0.4.0)\n",
      "Requirement already satisfied: tqdm>=4.27 in /Users/akhil/Desktop/Research Assistant - Fall 2023 /Freedman_Bank_adDataAnalysis/fsbvenv/lib/python3.10/site-packages (from transformers) (4.66.1)\n",
      "Requirement already satisfied: fsspec in /Users/akhil/Desktop/Research Assistant - Fall 2023 /Freedman_Bank_adDataAnalysis/fsbvenv/lib/python3.10/site-packages (from huggingface-hub<1.0,>=0.16.4->transformers) (2023.9.2)\n",
      "Requirement already satisfied: typing-extensions>=3.7.4.3 in /Users/akhil/Desktop/Research Assistant - Fall 2023 /Freedman_Bank_adDataAnalysis/fsbvenv/lib/python3.10/site-packages (from huggingface-hub<1.0,>=0.16.4->transformers) (4.8.0)\n",
      "Requirement already satisfied: charset-normalizer<4,>=2 in /Users/akhil/Desktop/Research Assistant - Fall 2023 /Freedman_Bank_adDataAnalysis/fsbvenv/lib/python3.10/site-packages (from requests->transformers) (3.3.0)\n",
      "Requirement already satisfied: idna<4,>=2.5 in /Users/akhil/Desktop/Research Assistant - Fall 2023 /Freedman_Bank_adDataAnalysis/fsbvenv/lib/python3.10/site-packages (from requests->transformers) (3.4)\n",
      "Requirement already satisfied: urllib3<3,>=1.21.1 in /Users/akhil/Desktop/Research Assistant - Fall 2023 /Freedman_Bank_adDataAnalysis/fsbvenv/lib/python3.10/site-packages (from requests->transformers) (2.0.6)\n",
      "Requirement already satisfied: certifi>=2017.4.17 in /Users/akhil/Desktop/Research Assistant - Fall 2023 /Freedman_Bank_adDataAnalysis/fsbvenv/lib/python3.10/site-packages (from requests->transformers) (2023.7.22)\n",
      "Note: you may need to restart the kernel to use updated packages.\n"
     ]
    }
   ],
   "source": [
    "%pip install transformers"
   ]
  },
  {
   "cell_type": "code",
   "execution_count": 2,
   "metadata": {},
   "outputs": [],
   "source": [
    "import sys\n",
    "sys.path.append('..')"
   ]
  },
  {
   "cell_type": "code",
   "execution_count": 3,
   "metadata": {},
   "outputs": [],
   "source": [
    "from transformers import AutoTokenizer,AutoModelForMaskedLM\n",
    "import torch\n",
    "import numpy as np\n",
    "import pandas as pd\n",
    "import pickle\n",
    "from Scripts.adsApi import getAllAdTexts"
   ]
  },
  {
   "attachments": {},
   "cell_type": "markdown",
   "metadata": {},
   "source": [
    "### Defining parameters\n",
    "`MODEL_NAME` refers to the flavor of `sentence-transformers` model chosen. \n",
    "`IN_FILE` refers to the file name of the advertisement database.\n",
    "`OUT_FILE` refers to the file name that the ad embeddings will save to."
   ]
  },
  {
   "cell_type": "code",
   "execution_count": 4,
   "metadata": {},
   "outputs": [],
   "source": [
    "MODEL_NAME = \"yiyanghkust/finbert-pretrain\"\n",
    "IN_FILE = \"dataset_nov23\"\n",
    "OUT_FILE = \"AdEmbeddings_nov23_finbert2\""
   ]
  },
  {
   "cell_type": "code",
   "execution_count": 5,
   "metadata": {},
   "outputs": [
    {
     "name": "stderr",
     "output_type": "stream",
     "text": [
      "Some weights of the model checkpoint at yiyanghkust/finbert-pretrain were not used when initializing BertForMaskedLM: ['bert.pooler.dense.weight', 'cls.seq_relationship.weight', 'cls.seq_relationship.bias', 'bert.pooler.dense.bias']\n",
      "- This IS expected if you are initializing BertForMaskedLM from the checkpoint of a model trained on another task or with another architecture (e.g. initializing a BertForSequenceClassification model from a BertForPreTraining model).\n",
      "- This IS NOT expected if you are initializing BertForMaskedLM from the checkpoint of a model that you expect to be exactly identical (initializing a BertForSequenceClassification model from a BertForSequenceClassification model).\n"
     ]
    }
   ],
   "source": [
    "tokenizer = AutoTokenizer.from_pretrained(MODEL_NAME)\n",
    "model =  AutoModelForMaskedLM.from_pretrained(MODEL_NAME,config={\"hidden_size\":768})"
   ]
  },
  {
   "attachments": {},
   "cell_type": "markdown",
   "metadata": {},
   "source": [
    "## 1: Formatting and pre-processsing data\n",
    "Given the dataset of advertisements and attributes such as ad text, the following cells clean up and extracts relevant data."
   ]
  },
  {
   "cell_type": "code",
   "execution_count": 6,
   "metadata": {},
   "outputs": [],
   "source": [
    "ads = getAllAdTexts(IN_FILE)"
   ]
  },
  {
   "attachments": {},
   "cell_type": "markdown",
   "metadata": {},
   "source": [
    "## 2: Generating Embeddings for Single Advertisment\n",
    "The following is the core function used to generate embeddings for an advertisement. It takes in the `adText` (list of sentences) in the advertisement as well as environment variables (model and tokenizer) and returns the numpy array representing the embedding which is cached with relation the advertisement's identifier."
   ]
  },
  {
   "cell_type": "code",
   "execution_count": 7,
   "metadata": {},
   "outputs": [],
   "source": [
    "def generateAdEmbeddings(adText: str, model: AutoModelForMaskedLM, tokenizer: AutoTokenizer) -> np.array:\n",
    "    \"\"\" Generates the embeddings for each phrase for a single dictionary.\n",
    "    Given a list of phrases, this funcion computes and returns the embeddings.\n",
    "    \"\"\"\n",
    "    # pre-processing data\n",
    "    sentences = adText.split(\".\")[:-1]\n",
    "    sentences = [sentence.strip() for sentence in sentences]\n",
    "\n",
    "    # Setting up object to capture tokenized results\n",
    "    tokens = {'input_ids': [], 'attention_mask': []}\n",
    "\n",
    "    # Tokenizing phrases\n",
    "    for sentence in sentences:\n",
    "        new_tokens = tokenizer.encode_plus(sentence, max_length=128, truncation=True, padding='max_length', \n",
    "                                        return_tensors='pt')\n",
    "        tokens['input_ids'].append(new_tokens['input_ids'][0])\n",
    "        tokens['attention_mask'].append(new_tokens['attention_mask'][0])\n",
    "\n",
    "    # filtering out nulls\n",
    "    if len(tokens['input_ids']) == 0:\n",
    "        return (-1,-1)\n",
    "\n",
    "    #Post-tokenizing: stacking all the input_ids and attention_masks into one tensor\n",
    "    tokens['input_ids'] = torch.stack(tokens['input_ids'])\n",
    "    tokens['attention_mask'] = torch.stack(tokens['attention_mask'])\n",
    "\n",
    "    # Generating embeddings\n",
    "    outputs = model(**tokens)\n",
    "    embeddings = outputs.logits\n",
    "    # Filtering - focusing attention\n",
    "    attention = tokens['attention_mask']\n",
    "    mask = attention.unsqueeze(-1).expand(embeddings.shape).float()\n",
    "    mask_embeddings = embeddings * mask\n",
    "\n",
    "    # Generating mean-pooled values\n",
    "    summed = torch.sum(mask_embeddings, 1)\n",
    "    counts = torch.clamp(mask.sum(1), min=1e-9)\n",
    "    mean_pooled = summed / counts\n",
    "    mean_pooled = mean_pooled.detach().numpy()\n",
    "\n",
    "    return mean_pooled    "
   ]
  },
  {
   "attachments": {},
   "cell_type": "markdown",
   "metadata": {},
   "source": [
    "## 3: Caching Results for Downstream Tasks\n",
    "This block of code handles generating the embeddings for each dictionary and serializing this data into a `.JSON` file (as well as a `.pkl` file) which is used during the `cosine_similarity` stage."
   ]
  },
  {
   "cell_type": "code",
   "execution_count": 8,
   "metadata": {},
   "outputs": [
    {
     "name": "stdout",
     "output_type": "stream",
     "text": [
      "1873091403201.0\n",
      "1873050803201.0\n",
      "1874011703202.0\n",
      "1873091103201.0\n",
      "1873083103201.0\n",
      "1873061103201.0\n",
      "1873072503201.0\n",
      "1873050703203.0\n",
      "1873060703203.0\n",
      "1874011103201.0\n",
      "1874010903201.0\n"
     ]
    }
   ],
   "source": [
    "# Creating a dictionary which maps a dictionary name to its embeddings\n",
    "embeddings = {}\n",
    "i=0\n",
    "\n",
    "for identifier, adText in ads.items():\n",
    "    if i>10:\n",
    "        break\n",
    "    embeddings[identifier] = generateAdEmbeddings(adText, model, tokenizer)\n",
    "    i+=1\n",
    "    print(identifier)"
   ]
  },
  {
   "cell_type": "code",
   "execution_count": 9,
   "metadata": {},
   "outputs": [],
   "source": [
    "# converting the dictionary to JSON\n",
    "dfOut = pd.DataFrame(embeddings.items(), columns=[\"identifier\", \"embedding\"])\n",
    "# alternate solution: Using pickles.dump for serializing\n",
    "with open(f\"{OUT_FILE}.pkl\", \"wb\") as outFile:\n",
    "    pickle.dump(embeddings, outFile)\n"
   ]
  },
  {
   "cell_type": "code",
   "execution_count": 12,
   "metadata": {},
   "outputs": [
    {
     "name": "stdout",
     "output_type": "stream",
     "text": [
      "(17, 30873)\n",
      "(17, 30873)\n",
      "(9, 30873)\n",
      "(17, 30873)\n",
      "(17, 30873)\n",
      "(17, 30873)\n",
      "(17, 30873)\n",
      "(22, 30873)\n",
      "(22, 30873)\n",
      "(1, 30873)\n",
      "(1, 30873)\n"
     ]
    }
   ],
   "source": [
    "with open(f\"{OUT_FILE}.pkl\", \"rb\") as outFile:\n",
    "    embedding=pickle.load(outFile)\n",
    "    for emb in embedding.values():\n",
    "        print(emb.shape)\n",
    "    \n",
    "    "
   ]
  },
  {
   "cell_type": "code",
   "execution_count": 11,
   "metadata": {},
   "outputs": [],
   "source": [
    "# from transformers import file_utils\n",
    "# print(file_utils.default_cache_path)"
   ]
  }
 ],
 "metadata": {
  "kernelspec": {
   "display_name": ".FSBvenv",
   "language": "python",
   "name": "python3"
  },
  "language_info": {
   "codemirror_mode": {
    "name": "ipython",
    "version": 3
   },
   "file_extension": ".py",
   "mimetype": "text/x-python",
   "name": "python",
   "nbconvert_exporter": "python",
   "pygments_lexer": "ipython3",
   "version": "3.10.4"
  },
  "orig_nbformat": 4,
  "vscode": {
   "interpreter": {
    "hash": "474a30df91a1dff0c3558795eec494ecdea974eb54210329cccc69f95703d73c"
   }
  }
 },
 "nbformat": 4,
 "nbformat_minor": 2
}
