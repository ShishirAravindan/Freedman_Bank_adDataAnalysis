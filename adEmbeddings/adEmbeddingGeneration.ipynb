{
 "cells": [
  {
   "attachments": {},
   "cell_type": "markdown",
   "metadata": {},
   "source": [
    "# Generating Embeddings for Dataset of Advertisments\n",
    "Given an excel file of dictionary names and their phrases, this notebook converts these dictionaries into embeddings and caches them for downstream inference Tasks"
   ]
  },
  {
   "attachments": {},
   "cell_type": "markdown",
   "metadata": {},
   "source": [
    "## 0: Installing dependencies and Imports\n",
    "Ensures that necessary dependencies are installed, required imports are made and sets up environment variables."
   ]
  },
  {
   "cell_type": "code",
   "execution_count": null,
   "metadata": {},
   "outputs": [],
   "source": [
    "%pip install transformers"
   ]
  },
  {
   "cell_type": "code",
   "execution_count": null,
   "metadata": {},
   "outputs": [],
   "source": [
    "import sys\n",
    "sys.path.append('..')"
   ]
  },
  {
   "cell_type": "code",
   "execution_count": null,
   "metadata": {},
   "outputs": [],
   "source": [
    "from transformers import AutoTokenizer,AutoModelForMaskedLM\n",
    "import torch\n",
    "import numpy as np\n",
    "import pandas as pd\n",
    "import pickle\n",
    "from Scripts.adsApi import getAllAdTexts"
   ]
  },
  {
   "attachments": {},
   "cell_type": "markdown",
   "metadata": {},
   "source": [
    "### Defining parameters\n",
    "`MODEL_NAME` refers to the flavor of `sentence-transformers` model chosen. \n",
    "`IN_FILE` refers to the file name of the advertisement database.\n",
    "`OUT_FILE` refers to the file name that the ad embeddings will save to."
   ]
  },
  {
   "cell_type": "code",
   "execution_count": null,
   "metadata": {},
   "outputs": [],
   "source": [
    "MODEL_NAME = \"yiyanghkust/finbert-pretrain\"\n",
    "IN_FILE = \"dataset_nov23\"\n",
    "OUT_FILE = \"AdEmbeddings_nov23_finbert\""
   ]
  },
  {
   "cell_type": "code",
   "execution_count": null,
   "metadata": {},
   "outputs": [],
   "source": [
    "tokenizer = AutoTokenizer.from_pretrained(MODEL_NAME)\n",
    "model =  AutoModelForMaskedLM.from_pretrained(MODEL_NAME)"
   ]
  },
  {
   "attachments": {},
   "cell_type": "markdown",
   "metadata": {},
   "source": [
    "## 1: Formatting and pre-processsing data\n",
    "Given the dataset of advertisements and attributes such as ad text, the following cells clean up and extracts relevant data."
   ]
  },
  {
   "cell_type": "code",
   "execution_count": null,
   "metadata": {},
   "outputs": [],
   "source": [
    "ads = getAllAdTexts(IN_FILE)"
   ]
  },
  {
   "attachments": {},
   "cell_type": "markdown",
   "metadata": {},
   "source": [
    "## 2: Generating Embeddings for Single Advertisment\n",
    "The following is the core function used to generate embeddings for an advertisement. It takes in the `adText` (list of sentences) in the advertisement as well as environment variables (model and tokenizer) and returns the numpy array representing the embedding which is cached with relation the advertisement's identifier."
   ]
  },
  {
   "cell_type": "code",
   "execution_count": null,
   "metadata": {},
   "outputs": [],
   "source": [
    "def generateAdEmbeddings(adText: str, model: AutoModelForMaskedLM, tokenizer: AutoTokenizer) -> np.array:\n",
    "    \"\"\" Generates the embeddings for each phrase for a single dictionary.\n",
    "    Given a list of phrases, this funcion computes and returns the embeddings.\n",
    "    \"\"\"\n",
    "    # pre-processing data\n",
    "    sentences = adText.split(\".\")[:-1]\n",
    "    sentences = [sentence.strip() for sentence in sentences]\n",
    "\n",
    "    # Setting up object to capture tokenized results\n",
    "    tokens = {'input_ids': [], 'attention_mask': []}\n",
    "\n",
    "    # Tokenizing phrases\n",
    "    for sentence in sentences:\n",
    "        new_tokens = tokenizer.encode_plus(sentence, max_length=128, truncation=True, padding='max_length', \n",
    "                                        return_tensors='pt')\n",
    "        tokens['input_ids'].append(new_tokens['input_ids'][0])\n",
    "        tokens['attention_mask'].append(new_tokens['attention_mask'][0])\n",
    "\n",
    "    # filtering out nulls\n",
    "    if len(tokens['input_ids']) == 0:\n",
    "        return (-1,-1)\n",
    "\n",
    "    #Post-tokenizing: stacking all the input_ids and attention_masks into one tensor\n",
    "    tokens['input_ids'] = torch.stack(tokens['input_ids'])\n",
    "    tokens['attention_mask'] = torch.stack(tokens['attention_mask'])\n",
    "\n",
    "    # Generating embeddings\n",
    "    outputs = model(**tokens)\n",
    "    embeddings = outputs.logits\n",
    "    # Filtering - focusing attention\n",
    "    attention = tokens['attention_mask']\n",
    "    mask = attention.unsqueeze(-1).expand(embeddings.shape).float()\n",
    "    mask_embeddings = embeddings * mask\n",
    "\n",
    "    # Generating mean-pooled values\n",
    "    summed = torch.sum(mask_embeddings, 1)\n",
    "    counts = torch.clamp(mask.sum(1), min=1e-9)\n",
    "    mean_pooled = summed / counts\n",
    "    mean_pooled = mean_pooled.detach().numpy()\n",
    "\n",
    "    return mean_pooled    "
   ]
  },
  {
   "attachments": {},
   "cell_type": "markdown",
   "metadata": {},
   "source": [
    "## 3: Caching Results for Downstream Tasks\n",
    "This block of code handles generating the embeddings for each dictionary and serializing this data into a `.JSON` file (as well as a `.pkl` file) which is used during the `cosine_similarity` stage."
   ]
  },
  {
   "cell_type": "code",
   "execution_count": null,
   "metadata": {},
   "outputs": [],
   "source": [
    "# Creating a dictionary which maps a dictionary name to its embeddings\n",
    "embeddings = {}\n",
    "\n",
    "for identifier, adText in ads.items():\n",
    "    embeddings[identifier] = generateAdEmbeddings(adText, model, tokenizer)\n",
    "    print(identifier)"
   ]
  },
  {
   "cell_type": "code",
   "execution_count": null,
   "metadata": {},
   "outputs": [],
   "source": [
    "# converting the dictionary to JSON\n",
    "dfOut = pd.DataFrame(embeddings.items(), columns=[\"identifier\", \"embedding\"])\n",
    "# alternate solution: Using pickles.dump for serializing\n",
    "with open(f\"{OUT_FILE}.pkl\", \"wb\") as outFile:\n",
    "    pickle.dump(embeddings, outFile)"
   ]
  },
  {
   "cell_type": "code",
   "execution_count": null,
   "metadata": {},
   "outputs": [],
   "source": [
    "# from transformers import file_utils\n",
    "# print(file_utils.default_cache_path)"
   ]
  }
 ],
 "metadata": {
  "kernelspec": {
   "display_name": ".FSBvenv",
   "language": "python",
   "name": "python3"
  },
  "language_info": {
   "codemirror_mode": {
    "name": "ipython",
    "version": 3
   },
   "file_extension": ".py",
   "mimetype": "text/x-python",
   "name": "python",
   "nbconvert_exporter": "python",
   "pygments_lexer": "ipython3",
   "version": "3.10.4"
  },
  "orig_nbformat": 4,
  "vscode": {
   "interpreter": {
    "hash": "474a30df91a1dff0c3558795eec494ecdea974eb54210329cccc69f95703d73c"
   }
  }
 },
 "nbformat": 4,
 "nbformat_minor": 2
}
