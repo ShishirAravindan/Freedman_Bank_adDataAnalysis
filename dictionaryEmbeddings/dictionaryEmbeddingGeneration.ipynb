{
 "cells": [
  {
   "attachments": {},
   "cell_type": "markdown",
   "metadata": {},
   "source": [
    "# Generating Embeddings for a dictionary\n",
    "Given an excel file of dictionary names and their phrases, this notebook converts these dictionaries into embeddings and caches them for downstream inference Tasks"
   ]
  },
  {
   "attachments": {},
   "cell_type": "markdown",
   "metadata": {},
   "source": [
    "## 0: Installing dependencies and Imports\n",
    "Ensures that necessary dependencies are installed, required imports are made and sets up environment variables."
   ]
  },
  {
   "cell_type": "code",
   "execution_count": null,
   "metadata": {},
   "outputs": [],
   "source": [
    "%pip install transformers"
   ]
  },
  {
   "cell_type": "code",
   "execution_count": null,
   "metadata": {},
   "outputs": [],
   "source": [
    "from transformers import AutoTokenizer, AutoModel\n",
    "import torch\n",
    "import numpy as np\n",
    "import pandas as pd\n",
    "import os\n",
    "import pickle"
   ]
  },
  {
   "attachments": {},
   "cell_type": "markdown",
   "metadata": {},
   "source": [
    "In the following cell, enter the name of the dictionary file whose embeddings you wish to generate in `DICTIONARY_SRC`. Enter the desired name of the embedding file in `TARGET_FILE_NAME`."
   ]
  },
  {
   "cell_type": "code",
   "execution_count": null,
   "metadata": {},
   "outputs": [],
   "source": [
    "MODELS = { \"ROBERTA\": \"sentence-transformers/all-distilroberta-v1\", \n",
    "          \"FINBERT\": \"yiyanghkust/finbert-pretrain\",\n",
    "          \"HLM-ENGLISH-CASED\": \"dbmdz/bert-base-historic-english-cased\",\n",
    "          \"BERT-1760-1900\":\"Livingwithmachines/bert_1760_1900\",\n",
    "          \"BERT-1850-1875\": \"Livingwithmachines/bert_1850_1875\"}"
   ]
  },
  {
   "cell_type": "code",
   "execution_count": null,
   "metadata": {},
   "outputs": [],
   "source": [
    "MODEL_NAME = MODELS[\"BERT-1850-1875\"]\n",
    "DICTIONARY_SRC = \"dictionaries_v5\"\n",
    "TARGET_FILE_NAME = \"dictEmbeddings_v5_BERT_1850-1875\""
   ]
  },
  {
   "cell_type": "code",
   "execution_count": null,
   "metadata": {},
   "outputs": [],
   "source": [
    "tokenizer = AutoTokenizer.from_pretrained(MODEL_NAME)\n",
    "model = AutoModel.from_pretrained(MODEL_NAME)"
   ]
  },
  {
   "attachments": {},
   "cell_type": "markdown",
   "metadata": {},
   "source": [
    "## 1: Formatting and pre-processsing data\n",
    "Given the excel file of an expected format, the following cells clean up the data and converts the file into a compatible format for embedding generation."
   ]
  },
  {
   "cell_type": "code",
   "execution_count": null,
   "metadata": {},
   "outputs": [],
   "source": [
    "PATH_TO_FILE = os.path.join(os.getcwd(), f\"{DICTIONARY_SRC}.xlsx\")\n",
    "\n",
    "df = pd.read_excel(PATH_TO_FILE)\n",
    "\n",
    "# Cleaning up the Excel file\n",
    "df.columns = df.iloc[0]\n",
    "df = df[1:]\n",
    "df = df.reset_index(drop=True)\n",
    "df = df.drop(columns=\"Dictionary Name\")\n",
    "\n",
    "dictionaryNames = df.columns.to_list()\n",
    "dictionaryDataCleaned = {}\n",
    "\n",
    "for dictionary in dictionaryNames:\n",
    "    phrases = df[dictionary].dropna().to_list()\n",
    "    dictionaryDataCleaned[dictionary] = [' '.join(phrases)]\n",
    "\n",
    "\n",
    "# Preview options\n",
    "# df\n",
    "# dictionaryDataCleaned['Negative Prescriptions']"
   ]
  },
  {
   "attachments": {},
   "cell_type": "markdown",
   "metadata": {},
   "source": [
    "## 2: Generating Embeddings for Single Dictionary\n",
    "The following is the core function used to generate embeddings for a dictionary. It takes in the list of phrases in the dictionary as well as environment variables (model and tokenizer) and returns the numpy arrays which is cached with relation the dictionary name."
   ]
  },
  {
   "cell_type": "code",
   "execution_count": null,
   "metadata": {},
   "outputs": [],
   "source": [
    "def generateDictionaryEmbeddings(phrases: list[str], model: AutoModel, tokenizer: AutoTokenizer) -> np.array:\n",
    "    \"\"\" Generates the embeddings for each phrase for a single dictionary.\n",
    "    Given a list of phrases, this funcion computes and returns the embeddings.\n",
    "    \"\"\"\n",
    "    # Setting up object to capture tokenized results\n",
    "    tokens = {'input_ids': [], 'attention_mask': []}\n",
    "\n",
    "    # Tokenizing phrases\n",
    "    for phrase in phrases:\n",
    "        new_tokens = tokenizer.encode_plus(phrase, max_length=128, truncation=True, padding='max_length', \n",
    "                                        return_tensors='pt')\n",
    "        tokens['input_ids'].append(new_tokens['input_ids'][0])\n",
    "        tokens['attention_mask'].append(new_tokens['attention_mask'][0])\n",
    "\n",
    "    #Post-tokenizing: stacking all the input_ids and attention_masks into one tensor\n",
    "    tokens['input_ids'] = torch.stack(tokens['input_ids'])\n",
    "    tokens['attention_mask'] = torch.stack(tokens['attention_mask'])\n",
    "\n",
    "    # Generating embeddings\n",
    "    outputs = model(**tokens)\n",
    "    embeddings = outputs.last_hidden_state\n",
    "\n",
    "    # Filtering - focusing attention\n",
    "    attention = tokens['attention_mask']\n",
    "    mask = attention.unsqueeze(-1).expand(embeddings.shape).float()\n",
    "    mask_embeddings = embeddings * mask\n",
    "\n",
    "    # Generating mean-pooled values\n",
    "    summed = torch.sum(mask_embeddings, 1)\n",
    "    counts = torch.clamp(mask.sum(1), min=1e-9)\n",
    "    mean_pooled = summed / counts\n",
    "    mean_pooled = mean_pooled.detach().numpy()\n",
    "\n",
    "    return mean_pooled    "
   ]
  },
  {
   "attachments": {},
   "cell_type": "markdown",
   "metadata": {},
   "source": [
    "## 3: Caching Results for Downstream Tasks\n",
    "This block of code handles generating the embeddings for each dictionary and saving this data into a JSON file which is used during the `cosine_similarity` stage."
   ]
  },
  {
   "cell_type": "code",
   "execution_count": null,
   "metadata": {},
   "outputs": [],
   "source": [
    "# Creating a dictionary which maps a dictionary name to its embeddings\n",
    "embeddings = {}\n",
    "\n",
    "for dictionaryName, phrases in dictionaryDataCleaned.items():\n",
    "    embeddings[dictionaryName] = generateDictionaryEmbeddings(phrases, model, tokenizer)\n",
    "\n",
    "# converting the dictionary to JSON\n",
    "dfOut = pd.DataFrame(embeddings.items(), columns=[\"dictionaryName\", \"embedding\"])\n",
    "dfOut.to_json(\"dictionaryEmbeddings.json\", orient=\"records\")\n",
    "\n",
    "# alternate solution: Using pickles.dump for serializing\n",
    "with open(f\"{TARGET_FILE_NAME}.pkl\", \"wb\") as outFile:\n",
    "    pickle.dump(embeddings, outFile)"
   ]
  }
 ],
 "metadata": {
  "kernelspec": {
   "display_name": ".FSBvenv",
   "language": "python",
   "name": "python3"
  },
  "language_info": {
   "codemirror_mode": {
    "name": "ipython",
    "version": 3
   },
   "file_extension": ".py",
   "mimetype": "text/x-python",
   "name": "python",
   "nbconvert_exporter": "python",
   "pygments_lexer": "ipython3",
   "version": "3.11.6"
  },
  "orig_nbformat": 4,
  "vscode": {
   "interpreter": {
    "hash": "474a30df91a1dff0c3558795eec494ecdea974eb54210329cccc69f95703d73c"
   }
  }
 },
 "nbformat": 4,
 "nbformat_minor": 2
}
