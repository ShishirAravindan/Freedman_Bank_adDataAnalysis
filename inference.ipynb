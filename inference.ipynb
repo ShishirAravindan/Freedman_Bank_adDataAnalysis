{
 "cells": [
  {
   "attachments": {},
   "cell_type": "markdown",
   "metadata": {},
   "source": [
    "## Controller File to generate the Cosine Similarity Values\n",
    "This is the main file that generates the Cosine Similarity Values of every ad and the dictionary and stores it in an excel sheet"
   ]
  },
  {
   "attachments": {},
   "cell_type": "markdown",
   "metadata": {},
   "source": [
    "## 0: Imports"
   ]
  },
  {
   "cell_type": "code",
   "execution_count": 6,
   "metadata": {},
   "outputs": [],
   "source": [
    "import pandas as pd\n",
    "import sys\n",
    "sys.path.append('..')"
   ]
  },
  {
   "cell_type": "code",
   "execution_count": 7,
   "metadata": {},
   "outputs": [],
   "source": [
    "from Scripts import adSimilarity \n",
    "import pickle"
   ]
  },
  {
   "attachments": {},
   "cell_type": "markdown",
   "metadata": {},
   "source": [
    "## 1: Defining environment variables"
   ]
  },
  {
   "cell_type": "code",
   "execution_count": 8,
   "metadata": {},
   "outputs": [],
   "source": [
    "AD_EMBEDDINGS_FILE = \"AdEmbeddings_nov23_HLM\"\n",
    "DICTIONARY_EMBEDDINGS_FILE = \"dictEmbeddings_v5_HLM\"\n",
    "OUT_FILE = \"HLM\""
   ]
  },
  {
   "attachments": {},
   "cell_type": "markdown",
   "metadata": {},
   "source": [
    "## 2: Generating & Saving Similarity Values"
   ]
  },
  {
   "cell_type": "code",
   "execution_count": 9,
   "metadata": {},
   "outputs": [],
   "source": [
    "with open(f\"adEmbeddings/{AD_EMBEDDINGS_FILE}.pkl\", 'rb') as fp:\n",
    "    deserializedAdEmbeddings = pickle.load(fp)\n",
    "\n",
    "    column_names=adSimilarity.getDictionaryColumns(DICTIONARY_EMBEDDINGS_FILE)\n",
    "    data=pd.DataFrame(columns=column_names)\n",
    "    \n",
    "    for identifier in deserializedAdEmbeddings:\n",
    "        mean_pooled_value = deserializedAdEmbeddings[identifier]\n",
    "        cosine_similarity_val = adSimilarity.getCosineSimilarity(mean_pooled_value, DICTIONARY_EMBEDDINGS_FILE)\n",
    "        new_row={\"Identifier\":identifier}\n",
    "        for i in range(len(cosine_similarity_val)):\n",
    "            new_row[column_names[i+1]]=cosine_similarity_val[i]\n",
    "        data.loc[len(data)]=new_row"
   ]
  },
  {
   "cell_type": "code",
   "execution_count": 10,
   "metadata": {},
   "outputs": [],
   "source": [
    "data.to_excel(f\"similarityValues/{OUT_FILE}.xlsx\",index=False)"
   ]
  }
 ],
 "metadata": {
  "kernelspec": {
   "display_name": ".FSBvenv",
   "language": "python",
   "name": "python3"
  },
  "language_info": {
   "codemirror_mode": {
    "name": "ipython",
    "version": 3
   },
   "file_extension": ".py",
   "mimetype": "text/x-python",
   "name": "python",
   "nbconvert_exporter": "python",
   "pygments_lexer": "ipython3",
   "version": "3.11.6"
  },
  "orig_nbformat": 4,
  "vscode": {
   "interpreter": {
    "hash": "474a30df91a1dff0c3558795eec494ecdea974eb54210329cccc69f95703d73c"
   }
  }
 },
 "nbformat": 4,
 "nbformat_minor": 2
}
